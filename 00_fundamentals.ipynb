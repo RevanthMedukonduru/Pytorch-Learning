{
  "nbformat": 4,
  "nbformat_minor": 0,
  "metadata": {
    "colab": {
      "provenance": [],
      "authorship_tag": "ABX9TyMef4Os+CZo+7wI0PIgXhhK",
      "include_colab_link": true
    },
    "kernelspec": {
      "name": "python3",
      "display_name": "Python 3"
    },
    "language_info": {
      "name": "python"
    }
  },
  "cells": [
    {
      "cell_type": "markdown",
      "metadata": {
        "id": "view-in-github",
        "colab_type": "text"
      },
      "source": [
        "<a href=\"https://colab.research.google.com/github/RevanthMedukonduru/Pytorch-Learning/blob/main/00_fundamentals.ipynb\" target=\"_parent\"><img src=\"https://colab.research.google.com/assets/colab-badge.svg\" alt=\"Open In Colab\"/></a>"
      ]
    },
    {
      "cell_type": "code",
      "execution_count": 1,
      "metadata": {
        "colab": {
          "base_uri": "https://localhost:8080/"
        },
        "id": "fq5orUeKr61F",
        "outputId": "2f1de51b-8e6a-4ae6-9d13-000503aa9980"
      },
      "outputs": [
        {
          "output_type": "stream",
          "name": "stdout",
          "text": [
            "2.3.0+cu121\n"
          ]
        }
      ],
      "source": [
        "import torch\n",
        "import pandas as pd\n",
        "import numpy as np\n",
        "import matplotlib.pyplot as plt\n",
        "print(torch.__version__)"
      ]
    },
    {
      "cell_type": "code",
      "source": [
        "#scalar\n",
        "scalar = torch.tensor(7)\n",
        "print(scalar, scalar.ndim, scalar.item())\n",
        "\n",
        "#Vector\n",
        "vector = torch.tensor([7, 7])\n",
        "print(vector, vector.ndim, vector[0].item())\n",
        "\n",
        "#MATRIX\n",
        "MATRIX = torch.tensor([[1, 2, 3],\n",
        "                        [4, 5, 6],\n",
        "                        [7, 8, 9]])\n",
        "print(MATRIX, MATRIX.ndim, MATRIX.shape)\n",
        "\n",
        "#TENSOR\n",
        "TENSOR = torch.tensor([[[1, 2, 3],\n",
        "                        [4, 5, 6],\n",
        "                        [7, 8, 9]]])\n",
        "print(TENSOR, TENSOR.ndim, TENSOR.shape)"
      ],
      "metadata": {
        "colab": {
          "base_uri": "https://localhost:8080/"
        },
        "id": "G5veTOxHxGfO",
        "outputId": "a109fa18-e1f3-4455-a2e7-0ea9d38f2e05"
      },
      "execution_count": 2,
      "outputs": [
        {
          "output_type": "stream",
          "name": "stdout",
          "text": [
            "tensor(7) 0 7\n",
            "tensor([7, 7]) 1 7\n",
            "tensor([[1, 2, 3],\n",
            "        [4, 5, 6],\n",
            "        [7, 8, 9]]) 2 torch.Size([3, 3])\n",
            "tensor([[[1, 2, 3],\n",
            "         [4, 5, 6],\n",
            "         [7, 8, 9]]]) 3 torch.Size([1, 3, 3])\n"
          ]
        }
      ]
    },
    {
      "cell_type": "code",
      "source": [
        "# Random Tensor\n",
        "rand_tensor = torch.rand(3, 4)\n",
        "rand_tensor, rand_tensor.ndim"
      ],
      "metadata": {
        "colab": {
          "base_uri": "https://localhost:8080/"
        },
        "id": "G1NrwukgyHHi",
        "outputId": "c70b75ee-8dc0-48e8-b9b9-111cf5fe42e3"
      },
      "execution_count": 4,
      "outputs": [
        {
          "output_type": "execute_result",
          "data": {
            "text/plain": [
              "(tensor([[0.3234, 0.0914, 0.3085, 0.9876],\n",
              "         [0.8542, 0.3119, 0.7748, 0.0084],\n",
              "         [0.2505, 0.9300, 0.9843, 0.9355]]),\n",
              " 2)"
            ]
          },
          "metadata": {},
          "execution_count": 4
        }
      ]
    },
    {
      "cell_type": "code",
      "source": [
        "rand_tensor.max(), rand_tensor.min()"
      ],
      "metadata": {
        "colab": {
          "base_uri": "https://localhost:8080/"
        },
        "id": "JnErWEOeZvT_",
        "outputId": "07ebf84c-e898-46a7-a527-eb1355c96fde"
      },
      "execution_count": 7,
      "outputs": [
        {
          "output_type": "execute_result",
          "data": {
            "text/plain": [
              "(tensor(0.9876), tensor(0.0084))"
            ]
          },
          "metadata": {},
          "execution_count": 7
        }
      ]
    },
    {
      "cell_type": "code",
      "source": [
        "rand_image_size_tensor = torch.rand(size=(32, 32, 3))\n",
        "rand_image_size_tensor.ndim, rand_image_size_tensor.shape"
      ],
      "metadata": {
        "colab": {
          "base_uri": "https://localhost:8080/"
        },
        "id": "zrRvDhUpY6oQ",
        "outputId": "300712d3-0762-41aa-8c73-aae9725e88ab"
      },
      "execution_count": 5,
      "outputs": [
        {
          "output_type": "execute_result",
          "data": {
            "text/plain": [
              "(3, torch.Size([32, 32, 3]))"
            ]
          },
          "metadata": {},
          "execution_count": 5
        }
      ]
    },
    {
      "cell_type": "code",
      "source": [
        "zeroes_tensor = torch.zeros(size=(3, 4))\n",
        "ones_tensor = torch.ones(size=(3, 4))\n",
        "zeroes_tensor, ones_tensor"
      ],
      "metadata": {
        "colab": {
          "base_uri": "https://localhost:8080/"
        },
        "id": "TwHip79MZ4V2",
        "outputId": "9675b46a-e101-4850-9d96-87f1c7ee9588"
      },
      "execution_count": 8,
      "outputs": [
        {
          "output_type": "execute_result",
          "data": {
            "text/plain": [
              "(tensor([[0., 0., 0., 0.],\n",
              "         [0., 0., 0., 0.],\n",
              "         [0., 0., 0., 0.]]),\n",
              " tensor([[1., 1., 1., 1.],\n",
              "         [1., 1., 1., 1.],\n",
              "         [1., 1., 1., 1.]]))"
            ]
          },
          "metadata": {},
          "execution_count": 8
        }
      ]
    },
    {
      "cell_type": "code",
      "source": [
        "ones_tensor.dtype"
      ],
      "metadata": {
        "colab": {
          "base_uri": "https://localhost:8080/"
        },
        "id": "H5jgjqcTaUmm",
        "outputId": "aa966ada-7559-4baf-82da-92519a4fdcc2"
      },
      "execution_count": 10,
      "outputs": [
        {
          "output_type": "execute_result",
          "data": {
            "text/plain": [
              "torch.float32"
            ]
          },
          "metadata": {},
          "execution_count": 10
        }
      ]
    },
    {
      "cell_type": "code",
      "source": [
        "# range of tensors, tensors-like\n",
        "one_to_ten = torch.arange(start=0, end=11, step=1)\n",
        "one_to_ten"
      ],
      "metadata": {
        "colab": {
          "base_uri": "https://localhost:8080/"
        },
        "id": "IbyhVGvxaWN4",
        "outputId": "04900930-2d79-4364-cdf1-7bab502b4706"
      },
      "execution_count": 16,
      "outputs": [
        {
          "output_type": "execute_result",
          "data": {
            "text/plain": [
              "tensor([ 0,  1,  2,  3,  4,  5,  6,  7,  8,  9, 10])"
            ]
          },
          "metadata": {},
          "execution_count": 16
        }
      ]
    },
    {
      "cell_type": "code",
      "source": [
        "ten_zeroes = torch.zeros_like(input = one_to_ten)\n",
        "ten_zeroes"
      ],
      "metadata": {
        "colab": {
          "base_uri": "https://localhost:8080/"
        },
        "id": "jCMOstCbbAU3",
        "outputId": "92bcbdff-cf3c-4753-e8d8-8866d874e77e"
      },
      "execution_count": 19,
      "outputs": [
        {
          "output_type": "execute_result",
          "data": {
            "text/plain": [
              "tensor([0, 0, 0, 0, 0, 0, 0, 0, 0, 0, 0])"
            ]
          },
          "metadata": {},
          "execution_count": 19
        }
      ]
    },
    {
      "cell_type": "markdown",
      "source": [
        "### Tensor Datatypes"
      ],
      "metadata": {
        "id": "STNwFZrDbsUG"
      }
    },
    {
      "cell_type": "code",
      "source": [
        "float_32_tensor = torch.rand(size=(3, 4), dtype=None, device=None, requires_grad=False)\n",
        "float_32_tensor, float_32_tensor.dtype, float_32_tensor.requires_grad"
      ],
      "metadata": {
        "colab": {
          "base_uri": "https://localhost:8080/"
        },
        "id": "n1FWuy0KbWbf",
        "outputId": "8c391e18-eb74-4808-ee1c-48abd9b2dedb"
      },
      "execution_count": 25,
      "outputs": [
        {
          "output_type": "execute_result",
          "data": {
            "text/plain": [
              "(tensor([[0.6929, 0.8835, 0.5062, 0.5639],\n",
              "         [0.8252, 0.3575, 0.6960, 0.8324],\n",
              "         [0.8107, 0.6947, 0.7278, 0.7849]]),\n",
              " torch.float32,\n",
              " False)"
            ]
          },
          "metadata": {},
          "execution_count": 25
        }
      ]
    },
    {
      "cell_type": "code",
      "source": [],
      "metadata": {
        "id": "5bqerL0sfb86"
      },
      "execution_count": null,
      "outputs": []
    },
    {
      "cell_type": "code",
      "source": [
        "device = \"cuda\" if torch.cuda.is_available() else \"cpu\"\n",
        "device"
      ],
      "metadata": {
        "colab": {
          "base_uri": "https://localhost:8080/",
          "height": 36
        },
        "id": "JcncIwSpdw5X",
        "outputId": "9addc820-0b08-44e3-b439-d9570045fcfd"
      },
      "execution_count": 24,
      "outputs": [
        {
          "output_type": "execute_result",
          "data": {
            "text/plain": [
              "'cpu'"
            ],
            "application/vnd.google.colaboratory.intrinsic+json": {
              "type": "string"
            }
          },
          "metadata": {},
          "execution_count": 24
        }
      ]
    },
    {
      "cell_type": "code",
      "source": [
        "int32_tensor = torch.tensor([3, 6, 9], dtype=None)\n",
        "int32_tensor, int32_tensor.dtype"
      ],
      "metadata": {
        "colab": {
          "base_uri": "https://localhost:8080/"
        },
        "id": "Q8fX1YdPe7cs",
        "outputId": "10659661-6135-4b02-97b7-b147a18a4172"
      },
      "execution_count": 28,
      "outputs": [
        {
          "output_type": "execute_result",
          "data": {
            "text/plain": [
              "(tensor([3, 6, 9]), torch.int64)"
            ]
          },
          "metadata": {},
          "execution_count": 28
        }
      ]
    },
    {
      "cell_type": "code",
      "source": [
        "tensor = torch.tensor([1, 2, 3])\n",
        "print(tensor+10)\n",
        "print(tensor*10)\n",
        "print(tensor-10)\n",
        "print(tensor/10)"
      ],
      "metadata": {
        "colab": {
          "base_uri": "https://localhost:8080/"
        },
        "id": "Nar-Qkmkfu18",
        "outputId": "84671883-87e1-4dca-de35-e32e7fc205e0"
      },
      "execution_count": 30,
      "outputs": [
        {
          "output_type": "stream",
          "name": "stdout",
          "text": [
            "tensor([11, 12, 13])\n",
            "tensor([10, 20, 30])\n",
            "tensor([-9, -8, -7])\n",
            "tensor([0.1000, 0.2000, 0.3000])\n"
          ]
        }
      ]
    },
    {
      "cell_type": "code",
      "source": [
        "torch.mul(tensor, 10)"
      ],
      "metadata": {
        "colab": {
          "base_uri": "https://localhost:8080/"
        },
        "id": "-_Aw2I_JhVbZ",
        "outputId": "b6ae0d8a-840a-410f-b0b2-36d6bbd864fe"
      },
      "execution_count": 31,
      "outputs": [
        {
          "output_type": "execute_result",
          "data": {
            "text/plain": [
              "tensor([10, 20, 30])"
            ]
          },
          "metadata": {},
          "execution_count": 31
        }
      ]
    },
    {
      "cell_type": "code",
      "source": [
        "torch.matmul(tensor, tensor)"
      ],
      "metadata": {
        "colab": {
          "base_uri": "https://localhost:8080/"
        },
        "id": "2eFKvFIZheOb",
        "outputId": "8b8688c0-011d-4b5e-cfa6-966e63ad2854"
      },
      "execution_count": 33,
      "outputs": [
        {
          "output_type": "execute_result",
          "data": {
            "text/plain": [
              "tensor(14)"
            ]
          },
          "metadata": {},
          "execution_count": 33
        }
      ]
    },
    {
      "cell_type": "code",
      "source": [
        "A=torch.rand(3,2)\n",
        "B=torch.rand(3,2)\n",
        "A.shape, B.shape"
      ],
      "metadata": {
        "colab": {
          "base_uri": "https://localhost:8080/"
        },
        "id": "jSXopryKie5R",
        "outputId": "0ef14ddc-6914-4ba5-b360-25f02e6ae045"
      },
      "execution_count": 35,
      "outputs": [
        {
          "output_type": "execute_result",
          "data": {
            "text/plain": [
              "(torch.Size([3, 2]), torch.Size([3, 2]))"
            ]
          },
          "metadata": {},
          "execution_count": 35
        }
      ]
    },
    {
      "cell_type": "code",
      "source": [
        "torch.matmul(A,B.T)"
      ],
      "metadata": {
        "colab": {
          "base_uri": "https://localhost:8080/"
        },
        "id": "cG9snx2ylxrq",
        "outputId": "0233cccd-7d08-43c2-c8e9-983668710327"
      },
      "execution_count": 37,
      "outputs": [
        {
          "output_type": "execute_result",
          "data": {
            "text/plain": [
              "tensor([[1.0130, 0.3098, 0.9569],\n",
              "        [0.6239, 0.3439, 0.5286],\n",
              "        [0.5238, 0.2602, 0.4551]])"
            ]
          },
          "metadata": {},
          "execution_count": 37
        }
      ]
    },
    {
      "cell_type": "code",
      "source": [
        "tensor = torch.tensor([[1, 2, 3], [4, 5, 6]], dtype=torch.float32)\n",
        "tensor.min(), tensor.max(), tensor.sum(), tensor.mean()"
      ],
      "metadata": {
        "colab": {
          "base_uri": "https://localhost:8080/"
        },
        "id": "xTOPD2Gsl0sJ",
        "outputId": "5ede26e3-a819-4501-b5d4-9c0fea86c053"
      },
      "execution_count": 42,
      "outputs": [
        {
          "output_type": "execute_result",
          "data": {
            "text/plain": [
              "(tensor(1.), tensor(6.), tensor(21.), tensor(3.5000))"
            ]
          },
          "metadata": {},
          "execution_count": 42
        }
      ]
    },
    {
      "cell_type": "code",
      "source": [
        "tensor.argmin(), tensor.argmax()"
      ],
      "metadata": {
        "colab": {
          "base_uri": "https://localhost:8080/"
        },
        "id": "bCbEsVJYnW3m",
        "outputId": "29387c22-9973-464d-ae3b-bc2990472c42"
      },
      "execution_count": 45,
      "outputs": [
        {
          "output_type": "execute_result",
          "data": {
            "text/plain": [
              "(tensor(0), tensor(5))"
            ]
          },
          "metadata": {},
          "execution_count": 45
        }
      ]
    },
    {
      "cell_type": "code",
      "source": [
        "a = torch.randn(4, 3)\n",
        "a, a.ndim"
      ],
      "metadata": {
        "colab": {
          "base_uri": "https://localhost:8080/"
        },
        "id": "QvAKTTaZnYL8",
        "outputId": "7f98e571-d3f3-413d-8139-f97f4be3043d"
      },
      "execution_count": 50,
      "outputs": [
        {
          "output_type": "execute_result",
          "data": {
            "text/plain": [
              "(tensor([[-0.1417,  0.5031,  1.5879],\n",
              "         [ 0.6637,  0.7413, -1.5078],\n",
              "         [-0.4315,  0.9886,  0.7847],\n",
              "         [ 0.7157,  0.0088,  1.2731]]),\n",
              " 2)"
            ]
          },
          "metadata": {},
          "execution_count": 50
        }
      ]
    },
    {
      "cell_type": "code",
      "source": [
        "torch.argmax(a, dim=0)"
      ],
      "metadata": {
        "colab": {
          "base_uri": "https://localhost:8080/"
        },
        "id": "0vZ1q6LyobPu",
        "outputId": "a7aab5b6-087c-45fd-9fe4-057aad72ffbf"
      },
      "execution_count": 49,
      "outputs": [
        {
          "output_type": "execute_result",
          "data": {
            "text/plain": [
              "tensor([0, 0, 2, 0])"
            ]
          },
          "metadata": {},
          "execution_count": 49
        }
      ]
    },
    {
      "cell_type": "code",
      "source": [
        "import torch\n",
        "\n",
        "x = torch.arange(1, 11)\n",
        "x, x.shape"
      ],
      "metadata": {
        "colab": {
          "base_uri": "https://localhost:8080/"
        },
        "id": "1aqDkZ1SqMc6",
        "outputId": "40a78328-b5d0-4624-efec-8a8fcbbc0178"
      },
      "execution_count": 84,
      "outputs": [
        {
          "output_type": "execute_result",
          "data": {
            "text/plain": [
              "(tensor([ 1,  2,  3,  4,  5,  6,  7,  8,  9, 10]), torch.Size([10]))"
            ]
          },
          "metadata": {},
          "execution_count": 84
        }
      ]
    },
    {
      "cell_type": "code",
      "source": [
        "x.reshape(1, 10), x.reshape(1, 10).shape"
      ],
      "metadata": {
        "colab": {
          "base_uri": "https://localhost:8080/"
        },
        "id": "UUa4R7EiqQ5s",
        "outputId": "3c13e0a7-3337-4e1d-f675-8e512c94967b"
      },
      "execution_count": 89,
      "outputs": [
        {
          "output_type": "execute_result",
          "data": {
            "text/plain": [
              "(tensor([[12,  2,  3,  4,  5,  6,  7,  8,  9, 10]]), torch.Size([1, 10]))"
            ]
          },
          "metadata": {},
          "execution_count": 89
        }
      ]
    },
    {
      "cell_type": "code",
      "source": [
        "h = x.reshape(1, 10)\n",
        "h"
      ],
      "metadata": {
        "colab": {
          "base_uri": "https://localhost:8080/"
        },
        "id": "brEXrFZ2uzhG",
        "outputId": "ddc1566d-a4a5-47e8-ad9d-43f9cb7f49a6"
      },
      "execution_count": 86,
      "outputs": [
        {
          "output_type": "execute_result",
          "data": {
            "text/plain": [
              "tensor([[ 1,  2,  3,  4,  5,  6,  7,  8,  9, 10]])"
            ]
          },
          "metadata": {},
          "execution_count": 86
        }
      ]
    },
    {
      "cell_type": "code",
      "source": [
        "h[:, 0]=12\n",
        "h"
      ],
      "metadata": {
        "colab": {
          "base_uri": "https://localhost:8080/"
        },
        "id": "KOl6A63hu2VU",
        "outputId": "c051f8cb-6fb8-4f36-b8b4-1ed75f5f1314"
      },
      "execution_count": 87,
      "outputs": [
        {
          "output_type": "execute_result",
          "data": {
            "text/plain": [
              "tensor([[12,  2,  3,  4,  5,  6,  7,  8,  9, 10]])"
            ]
          },
          "metadata": {},
          "execution_count": 87
        }
      ]
    },
    {
      "cell_type": "code",
      "source": [
        "x"
      ],
      "metadata": {
        "colab": {
          "base_uri": "https://localhost:8080/"
        },
        "id": "du81yF-ku5CP",
        "outputId": "52bc0036-401b-4b7e-9d34-48421bde0cd5"
      },
      "execution_count": 88,
      "outputs": [
        {
          "output_type": "execute_result",
          "data": {
            "text/plain": [
              "tensor([12,  2,  3,  4,  5,  6,  7,  8,  9, 10])"
            ]
          },
          "metadata": {},
          "execution_count": 88
        }
      ]
    },
    {
      "cell_type": "code",
      "source": [
        "x.reshape(10, 1), x.reshape(10, 1).shape"
      ],
      "metadata": {
        "colab": {
          "base_uri": "https://localhost:8080/"
        },
        "id": "MtcSzcf-qwjE",
        "outputId": "8b276044-7f71-4345-bb27-c22436d909dc"
      },
      "execution_count": 56,
      "outputs": [
        {
          "output_type": "execute_result",
          "data": {
            "text/plain": [
              "(tensor([[ 1],\n",
              "         [ 2],\n",
              "         [ 3],\n",
              "         [ 4],\n",
              "         [ 5],\n",
              "         [ 6],\n",
              "         [ 7],\n",
              "         [ 8],\n",
              "         [ 9],\n",
              "         [10]]),\n",
              " torch.Size([10, 1]))"
            ]
          },
          "metadata": {},
          "execution_count": 56
        }
      ]
    },
    {
      "cell_type": "code",
      "source": [
        "z = x.view(1, 10)\n",
        "z, z.shape, x, x.shape"
      ],
      "metadata": {
        "colab": {
          "base_uri": "https://localhost:8080/"
        },
        "id": "XQnuu-lZq63b",
        "outputId": "519c137d-91cb-41a8-df6c-26bc8370f71a"
      },
      "execution_count": 58,
      "outputs": [
        {
          "output_type": "execute_result",
          "data": {
            "text/plain": [
              "(tensor([[ 1,  2,  3,  4,  5,  6,  7,  8,  9, 10]]),\n",
              " torch.Size([1, 10]),\n",
              " tensor([ 1,  2,  3,  4,  5,  6,  7,  8,  9, 10]),\n",
              " torch.Size([10]))"
            ]
          },
          "metadata": {},
          "execution_count": 58
        }
      ]
    },
    {
      "cell_type": "code",
      "source": [
        "z[:, 1] = 5"
      ],
      "metadata": {
        "id": "KNsylb8XrHGa"
      },
      "execution_count": 61,
      "outputs": []
    },
    {
      "cell_type": "code",
      "source": [
        "z, z.shape, x, x.shape"
      ],
      "metadata": {
        "colab": {
          "base_uri": "https://localhost:8080/"
        },
        "id": "WO0YSIbQrIiB",
        "outputId": "40abc4b8-31be-41f0-a955-e908292e003c"
      },
      "execution_count": 62,
      "outputs": [
        {
          "output_type": "execute_result",
          "data": {
            "text/plain": [
              "(tensor([[ 1,  5,  3,  4,  5,  6,  7,  8,  9, 10]]),\n",
              " torch.Size([1, 10]),\n",
              " tensor([ 1,  5,  3,  4,  5,  6,  7,  8,  9, 10]),\n",
              " torch.Size([10]))"
            ]
          },
          "metadata": {},
          "execution_count": 62
        }
      ]
    },
    {
      "cell_type": "code",
      "source": [
        "torch.stack(tensors=(z, x.view(1, 10)), dim=1).shape"
      ],
      "metadata": {
        "colab": {
          "base_uri": "https://localhost:8080/"
        },
        "id": "YyVG9XvQrWqS",
        "outputId": "1efb7868-d2d0-423f-d21f-15fe487a9e4c"
      },
      "execution_count": 69,
      "outputs": [
        {
          "output_type": "execute_result",
          "data": {
            "text/plain": [
              "torch.Size([1, 2, 10])"
            ]
          },
          "metadata": {},
          "execution_count": 69
        }
      ]
    },
    {
      "cell_type": "code",
      "source": [
        "z, z.reshape(2, 5)"
      ],
      "metadata": {
        "colab": {
          "base_uri": "https://localhost:8080/"
        },
        "id": "C8iXVHNxtUt9",
        "outputId": "53f3b94e-2e34-4140-f026-2d0620e879a5"
      },
      "execution_count": 76,
      "outputs": [
        {
          "output_type": "execute_result",
          "data": {
            "text/plain": [
              "(tensor([[ 1,  5,  3,  4,  5,  6,  7,  8,  9, 10]]),\n",
              " tensor([[ 1,  5,  3,  4,  5],\n",
              "         [ 6,  7,  8,  9, 10]]))"
            ]
          },
          "metadata": {},
          "execution_count": 76
        }
      ]
    },
    {
      "cell_type": "code",
      "source": [
        "z=z.reshape(2, 5)"
      ],
      "metadata": {
        "id": "jcG-CQ5Ztj39"
      },
      "execution_count": 78,
      "outputs": []
    },
    {
      "cell_type": "code",
      "source": [
        "z, z.squeeze(), z.unsqueeze(dim=1)"
      ],
      "metadata": {
        "colab": {
          "base_uri": "https://localhost:8080/"
        },
        "id": "Ok9rw0RNryp-",
        "outputId": "c8a43cda-281d-4877-a7fe-0761ff386077"
      },
      "execution_count": 80,
      "outputs": [
        {
          "output_type": "execute_result",
          "data": {
            "text/plain": [
              "(tensor([[ 1,  5,  3,  4,  5],\n",
              "         [ 6,  7,  8,  9, 10]]),\n",
              " tensor([[ 1,  5,  3,  4,  5],\n",
              "         [ 6,  7,  8,  9, 10]]),\n",
              " tensor([[[ 1,  5,  3,  4,  5]],\n",
              " \n",
              "         [[ 6,  7,  8,  9, 10]]]))"
            ]
          },
          "metadata": {},
          "execution_count": 80
        }
      ]
    },
    {
      "cell_type": "code",
      "source": [
        "x = torch.rand(size=(32, 32, 3))\n",
        "x.permute(dims=(2, 0, 1)).shape"
      ],
      "metadata": {
        "colab": {
          "base_uri": "https://localhost:8080/"
        },
        "id": "yc_xDitquUcZ",
        "outputId": "b98d9124-ea7e-4f6f-cf87-47f0406cc6c4"
      },
      "execution_count": 82,
      "outputs": [
        {
          "output_type": "execute_result",
          "data": {
            "text/plain": [
              "torch.Size([3, 32, 32])"
            ]
          },
          "metadata": {},
          "execution_count": 82
        }
      ]
    },
    {
      "cell_type": "code",
      "source": [
        "x.shape"
      ],
      "metadata": {
        "colab": {
          "base_uri": "https://localhost:8080/"
        },
        "id": "zT0UnTSbuhg4",
        "outputId": "5f6af2d6-36e2-4004-b1af-ce0fa6bd8cac"
      },
      "execution_count": 83,
      "outputs": [
        {
          "output_type": "execute_result",
          "data": {
            "text/plain": [
              "torch.Size([32, 32, 3])"
            ]
          },
          "metadata": {},
          "execution_count": 83
        }
      ]
    },
    {
      "cell_type": "code",
      "source": [
        "x = torch.arange(1, 10).reshape(1, 3, 3)\n",
        "x, x.shape"
      ],
      "metadata": {
        "colab": {
          "base_uri": "https://localhost:8080/"
        },
        "id": "AlhfPfDQupqV",
        "outputId": "1adf557a-3021-4a08-b450-60fb1e7f69a6"
      },
      "execution_count": 91,
      "outputs": [
        {
          "output_type": "execute_result",
          "data": {
            "text/plain": [
              "(tensor([[[1, 2, 3],\n",
              "          [4, 5, 6],\n",
              "          [7, 8, 9]]]),\n",
              " torch.Size([1, 3, 3]))"
            ]
          },
          "metadata": {},
          "execution_count": 91
        }
      ]
    },
    {
      "cell_type": "code",
      "source": [
        "x[:, 2, 2]"
      ],
      "metadata": {
        "colab": {
          "base_uri": "https://localhost:8080/"
        },
        "id": "g8BoTo5Axzm4",
        "outputId": "87c2991e-c9a5-4354-8ee9-db63b410c3ca"
      },
      "execution_count": 100,
      "outputs": [
        {
          "output_type": "execute_result",
          "data": {
            "text/plain": [
              "tensor([9])"
            ]
          },
          "metadata": {},
          "execution_count": 100
        }
      ]
    },
    {
      "cell_type": "code",
      "source": [
        "import numpy as np\n",
        "\n",
        "np_arr = np.arange(1,10)\n",
        "tensor = torch.from_numpy(np_arr)\n",
        "tensor, tensor.dtype, np_arr, np_arr.dtype"
      ],
      "metadata": {
        "colab": {
          "base_uri": "https://localhost:8080/"
        },
        "id": "1ybAgzNdz0i6",
        "outputId": "836f029c-9e39-42d8-caec-c0b65d3c16a9"
      },
      "execution_count": 103,
      "outputs": [
        {
          "output_type": "execute_result",
          "data": {
            "text/plain": [
              "(tensor([1, 2, 3, 4, 5, 6, 7, 8, 9]),\n",
              " torch.int64,\n",
              " array([1, 2, 3, 4, 5, 6, 7, 8, 9]),\n",
              " dtype('int64'))"
            ]
          },
          "metadata": {},
          "execution_count": 103
        }
      ]
    },
    {
      "cell_type": "code",
      "source": [
        "np_arr = tensor.type(torch.float32).numpy()\n",
        "tensor, tensor.dtype, np_arr, np_arr.dtype"
      ],
      "metadata": {
        "colab": {
          "base_uri": "https://localhost:8080/"
        },
        "id": "IwMpp3Km0CIL",
        "outputId": "e9875477-2c69-4a4d-ef9a-fc0575416432"
      },
      "execution_count": 105,
      "outputs": [
        {
          "output_type": "execute_result",
          "data": {
            "text/plain": [
              "(tensor([1, 2, 3, 4, 5, 6, 7, 8, 9]),\n",
              " torch.int64,\n",
              " array([1., 2., 3., 4., 5., 6., 7., 8., 9.], dtype=float32),\n",
              " dtype('float32'))"
            ]
          },
          "metadata": {},
          "execution_count": 105
        }
      ]
    },
    {
      "cell_type": "code",
      "source": [
        "torch.manual_seed(32)"
      ],
      "metadata": {
        "id": "Lbh40Unq0rH-"
      },
      "execution_count": null,
      "outputs": []
    },
    {
      "cell_type": "code",
      "source": [
        "torch.cuda.is_available()"
      ],
      "metadata": {
        "colab": {
          "base_uri": "https://localhost:8080/"
        },
        "id": "hGMoSLfhFhME",
        "outputId": "384da12c-f5f5-4a2b-a62c-52c1d6096642"
      },
      "execution_count": 2,
      "outputs": [
        {
          "output_type": "execute_result",
          "data": {
            "text/plain": [
              "False"
            ]
          },
          "metadata": {},
          "execution_count": 2
        }
      ]
    },
    {
      "cell_type": "code",
      "source": [
        "device = \"cuda\" if torch.cuda.is_available() else \"cpu\"\n",
        "device"
      ],
      "metadata": {
        "colab": {
          "base_uri": "https://localhost:8080/",
          "height": 36
        },
        "id": "3wE5RkUsFlal",
        "outputId": "f4134266-0fc4-4ce2-eed1-8f8f27dbfa5f"
      },
      "execution_count": 3,
      "outputs": [
        {
          "output_type": "execute_result",
          "data": {
            "text/plain": [
              "'cpu'"
            ],
            "application/vnd.google.colaboratory.intrinsic+json": {
              "type": "string"
            }
          },
          "metadata": {},
          "execution_count": 3
        }
      ]
    },
    {
      "cell_type": "code",
      "source": [
        "torch.cuda.device_count()"
      ],
      "metadata": {
        "colab": {
          "base_uri": "https://localhost:8080/"
        },
        "id": "SP0o3ZlLFxSo",
        "outputId": "de82ce68-9caa-448a-8656-e909a560b5ba"
      },
      "execution_count": 4,
      "outputs": [
        {
          "output_type": "execute_result",
          "data": {
            "text/plain": [
              "0"
            ]
          },
          "metadata": {},
          "execution_count": 4
        }
      ]
    },
    {
      "cell_type": "code",
      "source": [
        "tensor_on_gpu.to('cpu').numpy()"
      ],
      "metadata": {
        "id": "sz_cUFk0F2Ol"
      },
      "execution_count": null,
      "outputs": []
    }
  ]
}